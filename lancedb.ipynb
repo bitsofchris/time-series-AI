{
 "cells": [
  {
   "cell_type": "code",
   "execution_count": 1,
   "metadata": {},
   "outputs": [
    {
     "name": "stderr",
     "output_type": "stream",
     "text": [
      "/Users/chris/repos/time-series-AI/venv/lib/python3.13/site-packages/tqdm/auto.py:21: TqdmWarning: IProgress not found. Please update jupyter and ipywidgets. See https://ipywidgets.readthedocs.io/en/stable/user_install.html\n",
      "  from .autonotebook import tqdm as notebook_tqdm\n"
     ]
    }
   ],
   "source": [
    "import lancedb\n",
    "\n",
    "db = lancedb.connect(\"lance-data/lancedb/\")"
   ]
  },
  {
   "cell_type": "code",
   "execution_count": 2,
   "metadata": {},
   "outputs": [
    {
     "name": "stdout",
     "output_type": "stream",
     "text": [
      "['time_series_windows']\n"
     ]
    }
   ],
   "source": [
    "table_names = db.table_names()\n",
    "print(table_names)"
   ]
  },
  {
   "cell_type": "code",
   "execution_count": 3,
   "metadata": {},
   "outputs": [
    {
     "data": {
      "text/plain": [
       "id: int64\n",
       "symbol: string\n",
       "timeframe: string\n",
       "window_start: timestamp[ns]\n",
       "window_end: timestamp[ns]\n",
       "vector: fixed_size_list<item: float>[80]\n",
       "  child 0, item: float\n",
       "metadata: string"
      ]
     },
     "execution_count": 3,
     "metadata": {},
     "output_type": "execute_result"
    }
   ],
   "source": [
    "table = db.open_table(\"time_series_windows\")\n",
    "table.schema"
   ]
  },
  {
   "cell_type": "code",
   "execution_count": 7,
   "metadata": {},
   "outputs": [
    {
     "data": {
      "text/html": [
       "<div>\n",
       "<style scoped>\n",
       "    .dataframe tbody tr th:only-of-type {\n",
       "        vertical-align: middle;\n",
       "    }\n",
       "\n",
       "    .dataframe tbody tr th {\n",
       "        vertical-align: top;\n",
       "    }\n",
       "\n",
       "    .dataframe thead th {\n",
       "        text-align: right;\n",
       "    }\n",
       "</style>\n",
       "<table border=\"1\" class=\"dataframe\">\n",
       "  <thead>\n",
       "    <tr style=\"text-align: right;\">\n",
       "      <th></th>\n",
       "      <th>id</th>\n",
       "      <th>symbol</th>\n",
       "      <th>timeframe</th>\n",
       "      <th>window_start</th>\n",
       "      <th>window_end</th>\n",
       "      <th>vector</th>\n",
       "      <th>metadata</th>\n",
       "    </tr>\n",
       "  </thead>\n",
       "  <tbody>\n",
       "    <tr>\n",
       "      <th>0</th>\n",
       "      <td>0</td>\n",
       "      <td>SAMPLE</td>\n",
       "      <td>1day</td>\n",
       "      <td>2025-03-24 07:40:18.497411</td>\n",
       "      <td>2025-03-24 07:40:18.497462</td>\n",
       "      <td>[0.0, 0.0, 0.0, 0.0, 0.0, 0.0, 0.0, 0.0, 0.0, ...</td>\n",
       "      <td>{\"sample\": true}</td>\n",
       "    </tr>\n",
       "    <tr>\n",
       "      <th>1</th>\n",
       "      <td>0</td>\n",
       "      <td>AAPL</td>\n",
       "      <td>1day</td>\n",
       "      <td>2024-03-21 00:00:00.000000</td>\n",
       "      <td>2024-04-09 00:00:00.000000</td>\n",
       "      <td>[-1.8119589, -1.8759751, -2.0171127, -2.059825...</td>\n",
       "      <td>{\"symbol\": \"AAPL\", \"timeframe\": \"1day\", \"windo...</td>\n",
       "    </tr>\n",
       "    <tr>\n",
       "      <th>2</th>\n",
       "      <td>1</td>\n",
       "      <td>AAPL</td>\n",
       "      <td>1day</td>\n",
       "      <td>2024-04-05 00:00:00.000000</td>\n",
       "      <td>2024-04-24 00:00:00.000000</td>\n",
       "      <td>[-2.1319132, -2.1782522, -2.099234, -2.1363506...</td>\n",
       "      <td>{\"symbol\": \"AAPL\", \"timeframe\": \"1day\", \"windo...</td>\n",
       "    </tr>\n",
       "    <tr>\n",
       "      <th>3</th>\n",
       "      <td>2</td>\n",
       "      <td>AAPL</td>\n",
       "      <td>1day</td>\n",
       "      <td>2024-04-19 00:00:00.000000</td>\n",
       "      <td>2024-05-08 00:00:00.000000</td>\n",
       "      <td>[-2.2768784, -2.348123, -2.310837, -2.3321533,...</td>\n",
       "      <td>{\"symbol\": \"AAPL\", \"timeframe\": \"1day\", \"windo...</td>\n",
       "    </tr>\n",
       "    <tr>\n",
       "      <th>4</th>\n",
       "      <td>3</td>\n",
       "      <td>AAPL</td>\n",
       "      <td>1day</td>\n",
       "      <td>2024-05-03 00:00:00.000000</td>\n",
       "      <td>2024-05-22 00:00:00.000000</td>\n",
       "      <td>[-1.4002225, -1.471095, -1.5035287, -1.546377,...</td>\n",
       "      <td>{\"symbol\": \"AAPL\", \"timeframe\": \"1day\", \"windo...</td>\n",
       "    </tr>\n",
       "  </tbody>\n",
       "</table>\n",
       "</div>"
      ],
      "text/plain": [
       "   id  symbol timeframe               window_start                 window_end  \\\n",
       "0   0  SAMPLE      1day 2025-03-24 07:40:18.497411 2025-03-24 07:40:18.497462   \n",
       "1   0    AAPL      1day 2024-03-21 00:00:00.000000 2024-04-09 00:00:00.000000   \n",
       "2   1    AAPL      1day 2024-04-05 00:00:00.000000 2024-04-24 00:00:00.000000   \n",
       "3   2    AAPL      1day 2024-04-19 00:00:00.000000 2024-05-08 00:00:00.000000   \n",
       "4   3    AAPL      1day 2024-05-03 00:00:00.000000 2024-05-22 00:00:00.000000   \n",
       "\n",
       "                                              vector  \\\n",
       "0  [0.0, 0.0, 0.0, 0.0, 0.0, 0.0, 0.0, 0.0, 0.0, ...   \n",
       "1  [-1.8119589, -1.8759751, -2.0171127, -2.059825...   \n",
       "2  [-2.1319132, -2.1782522, -2.099234, -2.1363506...   \n",
       "3  [-2.2768784, -2.348123, -2.310837, -2.3321533,...   \n",
       "4  [-1.4002225, -1.471095, -1.5035287, -1.546377,...   \n",
       "\n",
       "                                            metadata  \n",
       "0                                   {\"sample\": true}  \n",
       "1  {\"symbol\": \"AAPL\", \"timeframe\": \"1day\", \"windo...  \n",
       "2  {\"symbol\": \"AAPL\", \"timeframe\": \"1day\", \"windo...  \n",
       "3  {\"symbol\": \"AAPL\", \"timeframe\": \"1day\", \"windo...  \n",
       "4  {\"symbol\": \"AAPL\", \"timeframe\": \"1day\", \"windo...  "
      ]
     },
     "execution_count": 7,
     "metadata": {},
     "output_type": "execute_result"
    }
   ],
   "source": [
    "batch_size = 10\n",
    "offset = 0\n",
    "results = table.search().limit(batch_size).offset(offset).to_pandas()\n",
    "results.head()"
   ]
  },
  {
   "cell_type": "code",
   "execution_count": 6,
   "metadata": {},
   "outputs": [
    {
     "name": "stdout",
     "output_type": "stream",
     "text": [
      "['SAMPLE' 'AAPL']\n"
     ]
    }
   ],
   "source": [
    "# Load table data into Pandas DataFrame\n",
    "data = table.to_pandas()\n",
    "\n",
    "# Get distinct values from a column\n",
    "distinct_values = data['symbol'].unique()\n",
    "print(distinct_values)"
   ]
  }
 ],
 "metadata": {
  "kernelspec": {
   "display_name": "venv",
   "language": "python",
   "name": "python3"
  },
  "language_info": {
   "codemirror_mode": {
    "name": "ipython",
    "version": 3
   },
   "file_extension": ".py",
   "mimetype": "text/x-python",
   "name": "python",
   "nbconvert_exporter": "python",
   "pygments_lexer": "ipython3",
   "version": "3.13.2"
  }
 },
 "nbformat": 4,
 "nbformat_minor": 2
}
